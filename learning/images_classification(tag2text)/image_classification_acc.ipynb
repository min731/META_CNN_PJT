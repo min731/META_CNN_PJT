{
 "cells": [
  {
   "cell_type": "markdown",
   "metadata": {},
   "source": [
    "# Tag2Text 모델 도로 노면 예측 결과"
   ]
  },
  {
   "cell_type": "code",
   "execution_count": 90,
   "metadata": {},
   "outputs": [
    {
     "data": {
      "text/html": [
       "<div>\n",
       "<style scoped>\n",
       "    .dataframe tbody tr th:only-of-type {\n",
       "        vertical-align: middle;\n",
       "    }\n",
       "\n",
       "    .dataframe tbody tr th {\n",
       "        vertical-align: top;\n",
       "    }\n",
       "\n",
       "    .dataframe thead th {\n",
       "        text-align: right;\n",
       "    }\n",
       "</style>\n",
       "<table border=\"1\" class=\"dataframe\">\n",
       "  <thead>\n",
       "    <tr style=\"text-align: right;\">\n",
       "      <th></th>\n",
       "      <th>class</th>\n",
       "      <th>data</th>\n",
       "      <th>tag</th>\n",
       "      <th>spe_tag</th>\n",
       "      <th>caption</th>\n",
       "      <th>label</th>\n",
       "      <th>pred</th>\n",
       "    </tr>\n",
       "  </thead>\n",
       "  <tbody>\n",
       "    <tr>\n",
       "      <th>0</th>\n",
       "      <td>Normal</td>\n",
       "      <td>Normal\\frame1.jpg</td>\n",
       "      <td>['building | traffic light | night | city | ci...</td>\n",
       "      <td>weather</td>\n",
       "      <td>a night time view of a city street scene</td>\n",
       "      <td>0</td>\n",
       "      <td>0</td>\n",
       "    </tr>\n",
       "    <tr>\n",
       "      <th>1</th>\n",
       "      <td>Normal</td>\n",
       "      <td>Normal\\frame10.jpg</td>\n",
       "      <td>['city | highway | crane | road | construction...</td>\n",
       "      <td>weather</td>\n",
       "      <td>a view of a city road during the day</td>\n",
       "      <td>0</td>\n",
       "      <td>0</td>\n",
       "    </tr>\n",
       "    <tr>\n",
       "      <th>2</th>\n",
       "      <td>Normal</td>\n",
       "      <td>Normal\\frame100.jpg</td>\n",
       "      <td>['building | traffic | city | intersection | r...</td>\n",
       "      <td>weather</td>\n",
       "      <td>a busy city intersection on a cloudy day</td>\n",
       "      <td>0</td>\n",
       "      <td>0</td>\n",
       "    </tr>\n",
       "    <tr>\n",
       "      <th>3</th>\n",
       "      <td>Normal</td>\n",
       "      <td>Normal\\frame1000.jpg</td>\n",
       "      <td>['highway | vehicle | mountain | road | car']</td>\n",
       "      <td>weather</td>\n",
       "      <td>a view of a highway sign on a foggy day</td>\n",
       "      <td>0</td>\n",
       "      <td>0</td>\n",
       "    </tr>\n",
       "    <tr>\n",
       "      <th>4</th>\n",
       "      <td>Normal</td>\n",
       "      <td>Normal\\frame10000.jpg</td>\n",
       "      <td>['highway | sign | road | street | car | truck...</td>\n",
       "      <td>weather</td>\n",
       "      <td>a view of a city road on a sunny day</td>\n",
       "      <td>0</td>\n",
       "      <td>0</td>\n",
       "    </tr>\n",
       "  </tbody>\n",
       "</table>\n",
       "</div>"
      ],
      "text/plain": [
       "    class                   data  \\\n",
       "0  Normal      Normal\\frame1.jpg   \n",
       "1  Normal     Normal\\frame10.jpg   \n",
       "2  Normal    Normal\\frame100.jpg   \n",
       "3  Normal   Normal\\frame1000.jpg   \n",
       "4  Normal  Normal\\frame10000.jpg   \n",
       "\n",
       "                                                 tag  spe_tag  \\\n",
       "0  ['building | traffic light | night | city | ci...  weather   \n",
       "1  ['city | highway | crane | road | construction...  weather   \n",
       "2  ['building | traffic | city | intersection | r...  weather   \n",
       "3      ['highway | vehicle | mountain | road | car']  weather   \n",
       "4  ['highway | sign | road | street | car | truck...  weather   \n",
       "\n",
       "                                    caption  label  pred  \n",
       "0  a night time view of a city street scene      0     0  \n",
       "1      a view of a city road during the day      0     0  \n",
       "2  a busy city intersection on a cloudy day      0     0  \n",
       "3   a view of a highway sign on a foggy day      0     0  \n",
       "4      a view of a city road on a sunny day      0     0  "
      ]
     },
     "execution_count": 90,
     "metadata": {},
     "output_type": "execute_result"
    }
   ],
   "source": [
    "import pandas as pd\n",
    "\n",
    "df = pd.read_csv('tag2text_image_classification(final_30000).csv')\n",
    "df.head()"
   ]
  },
  {
   "cell_type": "code",
   "execution_count": 85,
   "metadata": {},
   "outputs": [
    {
     "data": {
      "text/html": [
       "<div>\n",
       "<style scoped>\n",
       "    .dataframe tbody tr th:only-of-type {\n",
       "        vertical-align: middle;\n",
       "    }\n",
       "\n",
       "    .dataframe tbody tr th {\n",
       "        vertical-align: top;\n",
       "    }\n",
       "\n",
       "    .dataframe thead th {\n",
       "        text-align: right;\n",
       "    }\n",
       "</style>\n",
       "<table border=\"1\" class=\"dataframe\">\n",
       "  <thead>\n",
       "    <tr style=\"text-align: right;\">\n",
       "      <th></th>\n",
       "      <th>클래스</th>\n",
       "      <th>사진</th>\n",
       "      <th>물체/상황</th>\n",
       "      <th>입력 단어</th>\n",
       "      <th>묘사</th>\n",
       "      <th>실제값</th>\n",
       "      <th>예측값</th>\n",
       "    </tr>\n",
       "  </thead>\n",
       "  <tbody>\n",
       "    <tr>\n",
       "      <th>8048</th>\n",
       "      <td>Normal</td>\n",
       "      <td>Normal\\frame8241.jpg</td>\n",
       "      <td>['vehicle | road | street | car | truck | driv...</td>\n",
       "      <td>weather</td>\n",
       "      <td>there is a one way street that is right next t...</td>\n",
       "      <td>0</td>\n",
       "      <td>0</td>\n",
       "    </tr>\n",
       "    <tr>\n",
       "      <th>12375</th>\n",
       "      <td>Rainy</td>\n",
       "      <td>Rainy\\frame3135.jpg</td>\n",
       "      <td>['rain | windshield | highway | vehicle | road...</td>\n",
       "      <td>weather</td>\n",
       "      <td>a view of a car's dashboard on a foggy day</td>\n",
       "      <td>1</td>\n",
       "      <td>1</td>\n",
       "    </tr>\n",
       "    <tr>\n",
       "      <th>14443</th>\n",
       "      <td>Rainy</td>\n",
       "      <td>Rainy\\frame4998.jpg</td>\n",
       "      <td>['fog | rain | highway | freeway | road | car ...</td>\n",
       "      <td>weather</td>\n",
       "      <td>a view of a foggy driving on a rainy day</td>\n",
       "      <td>1</td>\n",
       "      <td>1</td>\n",
       "    </tr>\n",
       "    <tr>\n",
       "      <th>25468</th>\n",
       "      <td>Snowy</td>\n",
       "      <td>Snowy\\frame592.jpg</td>\n",
       "      <td>['winter | road | street | snow | snowy']</td>\n",
       "      <td>weather</td>\n",
       "      <td>a snowy winter road on a snowy day</td>\n",
       "      <td>2</td>\n",
       "      <td>2</td>\n",
       "    </tr>\n",
       "    <tr>\n",
       "      <th>29577</th>\n",
       "      <td>Snowy</td>\n",
       "      <td>Snowy\\frame9618.jpg</td>\n",
       "      <td>['winter | city | road | street | tree | snow ...</td>\n",
       "      <td>weather</td>\n",
       "      <td>a view of a ski area on a snowy day</td>\n",
       "      <td>2</td>\n",
       "      <td>2</td>\n",
       "    </tr>\n",
       "  </tbody>\n",
       "</table>\n",
       "</div>"
      ],
      "text/plain": [
       "          클래스                    사진  \\\n",
       "8048   Normal  Normal\\frame8241.jpg   \n",
       "12375   Rainy   Rainy\\frame3135.jpg   \n",
       "14443   Rainy   Rainy\\frame4998.jpg   \n",
       "25468   Snowy    Snowy\\frame592.jpg   \n",
       "29577   Snowy   Snowy\\frame9618.jpg   \n",
       "\n",
       "                                                   물체/상황    입력 단어  \\\n",
       "8048   ['vehicle | road | street | car | truck | driv...  weather   \n",
       "12375  ['rain | windshield | highway | vehicle | road...  weather   \n",
       "14443  ['fog | rain | highway | freeway | road | car ...  weather   \n",
       "25468          ['winter | road | street | snow | snowy']  weather   \n",
       "29577  ['winter | city | road | street | tree | snow ...  weather   \n",
       "\n",
       "                                                      묘사  실제값  예측값  \n",
       "8048   there is a one way street that is right next t...    0    0  \n",
       "12375         a view of a car's dashboard on a foggy day    1    1  \n",
       "14443           a view of a foggy driving on a rainy day    1    1  \n",
       "25468                 a snowy winter road on a snowy day    2    2  \n",
       "29577                a view of a ski area on a snowy day    2    2  "
      ]
     },
     "execution_count": 85,
     "metadata": {},
     "output_type": "execute_result"
    }
   ],
   "source": [
    "df = df.rename(columns={'class':'클래스','data':'사진','tag':'물체/상황','spe_tag':'입력 단어','caption':'묘사','label':'실제값','pred':'예측값'})\n",
    "df.sample(5).sort_index()"
   ]
  },
  {
   "cell_type": "code",
   "execution_count": 29,
   "metadata": {},
   "outputs": [
    {
     "data": {
      "text/html": [
       "<div>\n",
       "<style scoped>\n",
       "    .dataframe tbody tr th:only-of-type {\n",
       "        vertical-align: middle;\n",
       "    }\n",
       "\n",
       "    .dataframe tbody tr th {\n",
       "        vertical-align: top;\n",
       "    }\n",
       "\n",
       "    .dataframe thead th {\n",
       "        text-align: right;\n",
       "    }\n",
       "</style>\n",
       "<table border=\"1\" class=\"dataframe\">\n",
       "  <thead>\n",
       "    <tr style=\"text-align: right;\">\n",
       "      <th></th>\n",
       "      <th>클래스</th>\n",
       "      <th>사진</th>\n",
       "      <th>물체/상황</th>\n",
       "      <th>입력 단어</th>\n",
       "      <th>묘사</th>\n",
       "      <th>실제값</th>\n",
       "      <th>예측값</th>\n",
       "    </tr>\n",
       "  </thead>\n",
       "  <tbody>\n",
       "    <tr>\n",
       "      <th>26994</th>\n",
       "      <td>Snowy</td>\n",
       "      <td>Snowy\\frame7293.jpg</td>\n",
       "      <td>['winter | mountain road | mountain | road | t...</td>\n",
       "      <td>weather</td>\n",
       "      <td>a snowy winter road in the country side</td>\n",
       "      <td>2</td>\n",
       "      <td>2</td>\n",
       "    </tr>\n",
       "    <tr>\n",
       "      <th>24611</th>\n",
       "      <td>Snowy</td>\n",
       "      <td>Snowy\\frame5148.jpg</td>\n",
       "      <td>['city | city street | road | street | snow | ...</td>\n",
       "      <td>weather</td>\n",
       "      <td>a view of a snowy street intersection on a sno...</td>\n",
       "      <td>2</td>\n",
       "      <td>2</td>\n",
       "    </tr>\n",
       "    <tr>\n",
       "      <th>1310</th>\n",
       "      <td>Normal</td>\n",
       "      <td>Normal\\frame2177.jpg</td>\n",
       "      <td>['highway | vehicle | road | car']</td>\n",
       "      <td>weather</td>\n",
       "      <td>the view from the passenger seat of a highway ...</td>\n",
       "      <td>0</td>\n",
       "      <td>0</td>\n",
       "    </tr>\n",
       "    <tr>\n",
       "      <th>17171</th>\n",
       "      <td>Rainy</td>\n",
       "      <td>Rainy\\frame7452.jpg</td>\n",
       "      <td>['winter | fog | road | tree | snow']</td>\n",
       "      <td>weather</td>\n",
       "      <td>a winter road is quiet on a snowy day</td>\n",
       "      <td>1</td>\n",
       "      <td>2</td>\n",
       "    </tr>\n",
       "    <tr>\n",
       "      <th>13439</th>\n",
       "      <td>Rainy</td>\n",
       "      <td>Rainy\\frame4093.jpg</td>\n",
       "      <td>['fog | rain | highway | mountain | road | clo...</td>\n",
       "      <td>weather</td>\n",
       "      <td>a foggy drive on a rainy day</td>\n",
       "      <td>1</td>\n",
       "      <td>1</td>\n",
       "    </tr>\n",
       "  </tbody>\n",
       "</table>\n",
       "</div>"
      ],
      "text/plain": [
       "          클래스                    사진  \\\n",
       "26994   Snowy   Snowy\\frame7293.jpg   \n",
       "24611   Snowy   Snowy\\frame5148.jpg   \n",
       "1310   Normal  Normal\\frame2177.jpg   \n",
       "17171   Rainy   Rainy\\frame7452.jpg   \n",
       "13439   Rainy   Rainy\\frame4093.jpg   \n",
       "\n",
       "                                                   물체/상황    입력 단어  \\\n",
       "26994  ['winter | mountain road | mountain | road | t...  weather   \n",
       "24611  ['city | city street | road | street | snow | ...  weather   \n",
       "1310                  ['highway | vehicle | road | car']  weather   \n",
       "17171              ['winter | fog | road | tree | snow']  weather   \n",
       "13439  ['fog | rain | highway | mountain | road | clo...  weather   \n",
       "\n",
       "                                                      묘사  실제값  예측값  \n",
       "26994            a snowy winter road in the country side    2    2  \n",
       "24611  a view of a snowy street intersection on a sno...    2    2  \n",
       "1310   the view from the passenger seat of a highway ...    0    0  \n",
       "17171              a winter road is quiet on a snowy day    1    2  \n",
       "13439                       a foggy drive on a rainy day    1    1  "
      ]
     },
     "execution_count": 29,
     "metadata": {},
     "output_type": "execute_result"
    }
   ],
   "source": [
    "df.sample(5)"
   ]
  },
  {
   "cell_type": "code",
   "execution_count": 4,
   "metadata": {},
   "outputs": [
    {
     "data": {
      "text/plain": [
       "class\n",
       "Normal    10000\n",
       "Rainy     10000\n",
       "Snowy     10000\n",
       "Name: count, dtype: int64"
      ]
     },
     "execution_count": 4,
     "metadata": {},
     "output_type": "execute_result"
    }
   ],
   "source": [
    "# 총 3만개 데이터\n",
    "# 클래스별 각 10000개 데이터\n",
    "\n",
    "df['class'].value_counts()"
   ]
  },
  {
   "cell_type": "code",
   "execution_count": 87,
   "metadata": {},
   "outputs": [],
   "source": [
    "import numpy as np"
   ]
  },
  {
   "cell_type": "markdown",
   "metadata": {},
   "source": [
    "### Accuracy"
   ]
  },
  {
   "cell_type": "code",
   "execution_count": 93,
   "metadata": {},
   "outputs": [
    {
     "name": "stdout",
     "output_type": "stream",
     "text": [
      "Accuary :  0.8696\n"
     ]
    }
   ],
   "source": [
    "acc = len(df[(df['label']==df['pred'])]) / len(df['label'])\n",
    "print(\"Accuary : \",np.round(acc,4))"
   ]
  },
  {
   "cell_type": "code",
   "execution_count": 31,
   "metadata": {},
   "outputs": [],
   "source": [
    "def class_acc(df,class_name):\n",
    "\n",
    "    class_names = ['Normal','Rainy','Snowy']\n",
    "\n",
    "    df_class = df[df['label']==class_names.index(class_name)]\n",
    "    acc = len(df_class[(df_class['label']==df_class['pred'])]) / len(df_class['label'])\n",
    "\n",
    "    print(\"'\"+class_name+\"'\" + \" class의 Accuracy : \",acc)"
   ]
  },
  {
   "cell_type": "code",
   "execution_count": 32,
   "metadata": {},
   "outputs": [
    {
     "name": "stdout",
     "output_type": "stream",
     "text": [
      "'Normal' class의 Accuracy :  0.9991\n"
     ]
    }
   ],
   "source": [
    "# Normal acc\n",
    "\n",
    "class_acc(df,'Normal')"
   ]
  },
  {
   "cell_type": "code",
   "execution_count": 33,
   "metadata": {},
   "outputs": [
    {
     "name": "stdout",
     "output_type": "stream",
     "text": [
      "'Rainy' class의 Accuracy :  0.6408\n"
     ]
    }
   ],
   "source": [
    "# Rainy acc\n",
    "\n",
    "class_acc(df,'Rainy')"
   ]
  },
  {
   "cell_type": "code",
   "execution_count": 34,
   "metadata": {},
   "outputs": [
    {
     "name": "stdout",
     "output_type": "stream",
     "text": [
      "'Snowy' class의 Accuracy :  0.969\n"
     ]
    }
   ],
   "source": [
    "# Snowy acc\n",
    "\n",
    "class_acc(df,'Snowy')"
   ]
  },
  {
   "cell_type": "markdown",
   "metadata": {},
   "source": [
    "### 오차행렬"
   ]
  },
  {
   "cell_type": "code",
   "execution_count": 37,
   "metadata": {},
   "outputs": [
    {
     "data": {
      "text/plain": [
       "(30000, 30000)"
      ]
     },
     "execution_count": 37,
     "metadata": {},
     "output_type": "execute_result"
    }
   ],
   "source": [
    "from sklearn.metrics import confusion_matrix\n",
    "\n",
    "y_test = list(df['label'])\n",
    "preds = list(df['pred'])\n",
    "\n",
    "len(y_test), len(preds)"
   ]
  },
  {
   "cell_type": "code",
   "execution_count": 38,
   "metadata": {},
   "outputs": [
    {
     "data": {
      "text/plain": [
       "array([[9991,    9,    0],\n",
       "       [2762, 6408,  830],\n",
       "       [  20,  290, 9690]], dtype=int64)"
      ]
     },
     "execution_count": 38,
     "metadata": {},
     "output_type": "execute_result"
    }
   ],
   "source": [
    "confusion_matrix(y_test, preds)"
   ]
  },
  {
   "cell_type": "code",
   "execution_count": 53,
   "metadata": {},
   "outputs": [
    {
     "data": {
      "image/png": "[encoded data removed]",
      "text/plain": [
       "<Figure size 640x480 with 2 Axes>"
      ]
     },
     "metadata": {},
     "output_type": "display_data"
    }
   ],
   "source": [
    "import seaborn as sns\n",
    "import matplotlib.pyplot as plt\n",
    "\n",
    "plt.rcParams['font.family'] = 'Malgun Gothic'\n",
    "\n",
    "cm = confusion_matrix(preds,y_test)\n",
    "sns.heatmap(cm, annot=True, fmt='d', cmap='Blues')\n",
    "plt.xlabel('실제값')\n",
    "plt.ylabel('예측값')\n",
    "plt.xticks([0.5,1.5,2.5],labels=['Normal','Rainy','Snowy'])\n",
    "plt.yticks([0.5,1.5,2.5],labels=['Normal','Rainy','Snowy'])\n",
    "plt.show()"
   ]
  },
  {
   "cell_type": "markdown",
   "metadata": {},
   "source": [
    "### 실제값 Rainy , 예측값 Normal 데이터 확인"
   ]
  },
  {
   "cell_type": "code",
   "execution_count": 63,
   "metadata": {},
   "outputs": [
    {
     "data": {
      "text/html": [
       "<div>\n",
       "<style scoped>\n",
       "    .dataframe tbody tr th:only-of-type {\n",
       "        vertical-align: middle;\n",
       "    }\n",
       "\n",
       "    .dataframe tbody tr th {\n",
       "        vertical-align: top;\n",
       "    }\n",
       "\n",
       "    .dataframe thead th {\n",
       "        text-align: right;\n",
       "    }\n",
       "</style>\n",
       "<table border=\"1\" class=\"dataframe\">\n",
       "  <thead>\n",
       "    <tr style=\"text-align: right;\">\n",
       "      <th></th>\n",
       "      <th>class</th>\n",
       "      <th>data</th>\n",
       "      <th>tag</th>\n",
       "      <th>spe_tag</th>\n",
       "      <th>caption</th>\n",
       "      <th>label</th>\n",
       "      <th>pred</th>\n",
       "    </tr>\n",
       "  </thead>\n",
       "  <tbody>\n",
       "    <tr>\n",
       "      <th>10000</th>\n",
       "      <td>Rainy</td>\n",
       "      <td>Rainy\\frame1.jpg</td>\n",
       "      <td>['man']</td>\n",
       "      <td>weather</td>\n",
       "      <td>a large jetliner taking off from a runway</td>\n",
       "      <td>1</td>\n",
       "      <td>0</td>\n",
       "    </tr>\n",
       "    <tr>\n",
       "      <th>10002</th>\n",
       "      <td>Rainy</td>\n",
       "      <td>Rainy\\frame100.jpg</td>\n",
       "      <td>['car | tunnel | drive | travel']</td>\n",
       "      <td>weather</td>\n",
       "      <td>a view of the inside of a subway tunnel</td>\n",
       "      <td>1</td>\n",
       "      <td>0</td>\n",
       "    </tr>\n",
       "    <tr>\n",
       "      <th>10004</th>\n",
       "      <td>Rainy</td>\n",
       "      <td>Rainy\\frame10000.jpg</td>\n",
       "      <td>['fog | highway | road | picture | street | ca...</td>\n",
       "      <td>weather</td>\n",
       "      <td>a view of a foggy car's dashboard during the day</td>\n",
       "      <td>1</td>\n",
       "      <td>0</td>\n",
       "    </tr>\n",
       "    <tr>\n",
       "      <th>10008</th>\n",
       "      <td>Rainy</td>\n",
       "      <td>Rainy\\frame1004.jpg</td>\n",
       "      <td>['highway | hand | vehicle | road | picture | ...</td>\n",
       "      <td>weather</td>\n",
       "      <td>a car's dashboard is shown in the dark</td>\n",
       "      <td>1</td>\n",
       "      <td>0</td>\n",
       "    </tr>\n",
       "    <tr>\n",
       "      <th>10014</th>\n",
       "      <td>Rainy</td>\n",
       "      <td>Rainy\\frame101.jpg</td>\n",
       "      <td>['car | tunnel | drive']</td>\n",
       "      <td>weather</td>\n",
       "      <td>a view of the inside of a subway tunnel</td>\n",
       "      <td>1</td>\n",
       "      <td>0</td>\n",
       "    </tr>\n",
       "    <tr>\n",
       "      <th>...</th>\n",
       "      <td>...</td>\n",
       "      <td>...</td>\n",
       "      <td>...</td>\n",
       "      <td>...</td>\n",
       "      <td>...</td>\n",
       "      <td>...</td>\n",
       "      <td>...</td>\n",
       "    </tr>\n",
       "    <tr>\n",
       "      <th>19995</th>\n",
       "      <td>Rainy</td>\n",
       "      <td>Rainy\\frame9995.jpg</td>\n",
       "      <td>['traffic | vehicle | light | road | picture |...</td>\n",
       "      <td>weather</td>\n",
       "      <td>a view of a car's dashboard during a foggy day</td>\n",
       "      <td>1</td>\n",
       "      <td>0</td>\n",
       "    </tr>\n",
       "    <tr>\n",
       "      <th>19996</th>\n",
       "      <td>Rainy</td>\n",
       "      <td>Rainy\\frame9996.jpg</td>\n",
       "      <td>['traffic | highway | vehicle | light | road |...</td>\n",
       "      <td>weather</td>\n",
       "      <td>a view of a car's dashboard during a foggy day</td>\n",
       "      <td>1</td>\n",
       "      <td>0</td>\n",
       "    </tr>\n",
       "    <tr>\n",
       "      <th>19997</th>\n",
       "      <td>Rainy</td>\n",
       "      <td>Rainy\\frame9997.jpg</td>\n",
       "      <td>['highway | vehicle | road | picture | street ...</td>\n",
       "      <td>weather</td>\n",
       "      <td>a view of a car's dashboard on a foggy day</td>\n",
       "      <td>1</td>\n",
       "      <td>0</td>\n",
       "    </tr>\n",
       "    <tr>\n",
       "      <th>19998</th>\n",
       "      <td>Rainy</td>\n",
       "      <td>Rainy\\frame9998.jpg</td>\n",
       "      <td>['fog | highway | vehicle | road | picture | s...</td>\n",
       "      <td>weather</td>\n",
       "      <td>a view of a foggy car's dashboard during the day</td>\n",
       "      <td>1</td>\n",
       "      <td>0</td>\n",
       "    </tr>\n",
       "    <tr>\n",
       "      <th>19999</th>\n",
       "      <td>Rainy</td>\n",
       "      <td>Rainy\\frame9999.jpg</td>\n",
       "      <td>['fog | highway | road | picture | street | ca...</td>\n",
       "      <td>weather</td>\n",
       "      <td>a view of a foggy street intersection from a c...</td>\n",
       "      <td>1</td>\n",
       "      <td>0</td>\n",
       "    </tr>\n",
       "  </tbody>\n",
       "</table>\n",
       "<p>2762 rows × 7 columns</p>\n",
       "</div>"
      ],
      "text/plain": [
       "       class                  data  \\\n",
       "10000  Rainy      Rainy\\frame1.jpg   \n",
       "10002  Rainy    Rainy\\frame100.jpg   \n",
       "10004  Rainy  Rainy\\frame10000.jpg   \n",
       "10008  Rainy   Rainy\\frame1004.jpg   \n",
       "10014  Rainy    Rainy\\frame101.jpg   \n",
       "...      ...                   ...   \n",
       "19995  Rainy   Rainy\\frame9995.jpg   \n",
       "19996  Rainy   Rainy\\frame9996.jpg   \n",
       "19997  Rainy   Rainy\\frame9997.jpg   \n",
       "19998  Rainy   Rainy\\frame9998.jpg   \n",
       "19999  Rainy   Rainy\\frame9999.jpg   \n",
       "\n",
       "                                                     tag  spe_tag  \\\n",
       "10000                                            ['man']  weather   \n",
       "10002                  ['car | tunnel | drive | travel']  weather   \n",
       "10004  ['fog | highway | road | picture | street | ca...  weather   \n",
       "10008  ['highway | hand | vehicle | road | picture | ...  weather   \n",
       "10014                           ['car | tunnel | drive']  weather   \n",
       "...                                                  ...      ...   \n",
       "19995  ['traffic | vehicle | light | road | picture |...  weather   \n",
       "19996  ['traffic | highway | vehicle | light | road |...  weather   \n",
       "19997  ['highway | vehicle | road | picture | street ...  weather   \n",
       "19998  ['fog | highway | vehicle | road | picture | s...  weather   \n",
       "19999  ['fog | highway | road | picture | street | ca...  weather   \n",
       "\n",
       "                                                 caption  label  pred  \n",
       "10000          a large jetliner taking off from a runway      1     0  \n",
       "10002            a view of the inside of a subway tunnel      1     0  \n",
       "10004   a view of a foggy car's dashboard during the day      1     0  \n",
       "10008             a car's dashboard is shown in the dark      1     0  \n",
       "10014            a view of the inside of a subway tunnel      1     0  \n",
       "...                                                  ...    ...   ...  \n",
       "19995     a view of a car's dashboard during a foggy day      1     0  \n",
       "19996     a view of a car's dashboard during a foggy day      1     0  \n",
       "19997         a view of a car's dashboard on a foggy day      1     0  \n",
       "19998   a view of a foggy car's dashboard during the day      1     0  \n",
       "19999  a view of a foggy street intersection from a c...      1     0  \n",
       "\n",
       "[2762 rows x 7 columns]"
      ]
     },
     "execution_count": 63,
     "metadata": {},
     "output_type": "execute_result"
    }
   ],
   "source": [
    "df_1_0 = df[(df['label']==1) & (df['pred']==0)]\n",
    "df_1_0"
   ]
  },
  {
   "cell_type": "code",
   "execution_count": 64,
   "metadata": {},
   "outputs": [
    {
     "data": {
      "text/html": [
       "<div>\n",
       "<style scoped>\n",
       "    .dataframe tbody tr th:only-of-type {\n",
       "        vertical-align: middle;\n",
       "    }\n",
       "\n",
       "    .dataframe tbody tr th {\n",
       "        vertical-align: top;\n",
       "    }\n",
       "\n",
       "    .dataframe thead th {\n",
       "        text-align: right;\n",
       "    }\n",
       "</style>\n",
       "<table border=\"1\" class=\"dataframe\">\n",
       "  <thead>\n",
       "    <tr style=\"text-align: right;\">\n",
       "      <th></th>\n",
       "      <th>tag</th>\n",
       "      <th>caption</th>\n",
       "    </tr>\n",
       "  </thead>\n",
       "  <tbody>\n",
       "    <tr>\n",
       "      <th>14369</th>\n",
       "      <td>['car | tunnel | drive']</td>\n",
       "      <td>a view of the inside of a subway tunnel</td>\n",
       "    </tr>\n",
       "    <tr>\n",
       "      <th>19071</th>\n",
       "      <td>['fog | traffic | highway | vehicle | road | p...</td>\n",
       "      <td>a view of a car's dashboard during a foggy day</td>\n",
       "    </tr>\n",
       "    <tr>\n",
       "      <th>19750</th>\n",
       "      <td>['highway | vehicle | road | picture | street ...</td>\n",
       "      <td>a view of a car's dashboard during a foggy day</td>\n",
       "    </tr>\n",
       "    <tr>\n",
       "      <th>10600</th>\n",
       "      <td>['car | tunnel | drive']</td>\n",
       "      <td>a view of the inside of a subway tunnel</td>\n",
       "    </tr>\n",
       "    <tr>\n",
       "      <th>19109</th>\n",
       "      <td>['fog | traffic | highway | vehicle | road | p...</td>\n",
       "      <td>a view of a foggy highway scene from a vehicle...</td>\n",
       "    </tr>\n",
       "    <tr>\n",
       "      <th>18025</th>\n",
       "      <td>['highway | city street | vehicle | bus | ligh...</td>\n",
       "      <td>a view of a city road during a foggy day</td>\n",
       "    </tr>\n",
       "    <tr>\n",
       "      <th>13737</th>\n",
       "      <td>['vehicle | car | tunnel | drive | travel']</td>\n",
       "      <td>a view of the inside of a subway tunnel</td>\n",
       "    </tr>\n",
       "    <tr>\n",
       "      <th>11139</th>\n",
       "      <td>['night | highway | light | car | tunnel | dri...</td>\n",
       "      <td>a night time shot of the inside of a car tunnel</td>\n",
       "    </tr>\n",
       "    <tr>\n",
       "      <th>10790</th>\n",
       "      <td>['light | car | tunnel | drive | travel | dark']</td>\n",
       "      <td>a view of the inside of a metro tunnel</td>\n",
       "    </tr>\n",
       "    <tr>\n",
       "      <th>18961</th>\n",
       "      <td>['bridge | highway | vehicle | road | picture ...</td>\n",
       "      <td>a view of a highway traffic on a foggy day</td>\n",
       "    </tr>\n",
       "  </tbody>\n",
       "</table>\n",
       "</div>"
      ],
      "text/plain": [
       "                                                     tag  \\\n",
       "14369                           ['car | tunnel | drive']   \n",
       "19071  ['fog | traffic | highway | vehicle | road | p...   \n",
       "19750  ['highway | vehicle | road | picture | street ...   \n",
       "10600                           ['car | tunnel | drive']   \n",
       "19109  ['fog | traffic | highway | vehicle | road | p...   \n",
       "18025  ['highway | city street | vehicle | bus | ligh...   \n",
       "13737        ['vehicle | car | tunnel | drive | travel']   \n",
       "11139  ['night | highway | light | car | tunnel | dri...   \n",
       "10790   ['light | car | tunnel | drive | travel | dark']   \n",
       "18961  ['bridge | highway | vehicle | road | picture ...   \n",
       "\n",
       "                                                 caption  \n",
       "14369            a view of the inside of a subway tunnel  \n",
       "19071     a view of a car's dashboard during a foggy day  \n",
       "19750     a view of a car's dashboard during a foggy day  \n",
       "10600            a view of the inside of a subway tunnel  \n",
       "19109  a view of a foggy highway scene from a vehicle...  \n",
       "18025           a view of a city road during a foggy day  \n",
       "13737            a view of the inside of a subway tunnel  \n",
       "11139    a night time shot of the inside of a car tunnel  \n",
       "10790             a view of the inside of a metro tunnel  \n",
       "18961         a view of a highway traffic on a foggy day  "
      ]
     },
     "execution_count": 64,
     "metadata": {},
     "output_type": "execute_result"
    }
   ],
   "source": [
    "df_1_0[['tag','caption']].sample(10)"
   ]
  },
  {
   "cell_type": "code",
   "execution_count": null,
   "metadata": {},
   "outputs": [],
   "source": [
    "# df_1_0[[x for x in list(df_1_0['caption']) if 'foggy' in x.split() True else False ]]"
   ]
  },
  {
   "cell_type": "code",
   "execution_count": 77,
   "metadata": {},
   "outputs": [
    {
     "data": {
      "text/plain": [
       "['a large jetliner taking off from a runway',\n",
       " 'a view of the inside of a subway tunnel',\n",
       " \"a view of a foggy car's dashboard during the day\",\n",
       " \"a car's dashboard is shown in the dark\",\n",
       " 'a view of the inside of a subway tunnel']"
      ]
     },
     "execution_count": 77,
     "metadata": {},
     "output_type": "execute_result"
    }
   ],
   "source": [
    "captions = list(df_1_0['caption'])\n",
    "captions[:5]"
   ]
  },
  {
   "cell_type": "code",
   "execution_count": 81,
   "metadata": {},
   "outputs": [
    {
     "data": {
      "text/plain": [
       "1480"
      ]
     },
     "execution_count": 81,
     "metadata": {},
     "output_type": "execute_result"
    }
   ],
   "source": [
    "cnt = 0\n",
    "for caption in captions:\n",
    "    caption = caption.split()\n",
    "    if 'foggy' in caption and 'rain' not in caption:\n",
    "        cnt += 1\n",
    "cnt"
   ]
  },
  {
   "cell_type": "code",
   "execution_count": 82,
   "metadata": {},
   "outputs": [
    {
     "data": {
      "text/plain": [
       "0.5358435916002896"
      ]
     },
     "execution_count": 82,
     "metadata": {},
     "output_type": "execute_result"
    }
   ],
   "source": [
    "# 실제값 Rainy, 예측값 Normal인 경우 안개낀 날씨(foggy)로 분류한 경우가 대부분\n",
    "\n",
    "cnt/len(df_1_0)"
   ]
  }
 ],
 "metadata": {
  "kernelspec": {
   "display_name": "ram",
   "language": "python",
   "name": "python3"
  },
  "language_info": {
   "codemirror_mode": {
    "name": "ipython",
    "version": 3
   },
   "file_extension": ".py",
   "mimetype": "text/x-python",
   "name": "python",
   "nbconvert_exporter": "python",
   "pygments_lexer": "ipython3",
   "version": "3.10.12"
  },
  "orig_nbformat": 4
 },
 "nbformat": 4,
 "nbformat_minor": 2
}
